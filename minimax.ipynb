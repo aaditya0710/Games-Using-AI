{
 "cells": [
  {
   "cell_type": "code",
   "execution_count": 1,
   "metadata": {},
   "outputs": [],
   "source": [
    "import math"
   ]
  },
  {
   "cell_type": "code",
   "execution_count": 8,
   "metadata": {},
   "outputs": [],
   "source": [
    "def minimax(current_depth,node_index,max_move,scores,max_depth):\n",
    "    \n",
    "    if current_depth==max_depth:\n",
    "        return scores[node_index]\n",
    "    \n",
    "    if max_move:\n",
    "        return max(minimax(current_depth+1,node_index*2,False,scores,max_depth),minimax(current_depth+1,node_index*2+1,False,scores,max_depth))\n",
    "    else:\n",
    "        return min(minimax(current_depth+1,node_index*2,True,scores,max_depth),minimax(current_depth+1,node_index*2+1,True,scores,max_depth))\n"
   ]
  },
  {
   "cell_type": "code",
   "execution_count": 11,
   "metadata": {},
   "outputs": [
    {
     "name": "stdout",
     "output_type": "stream",
     "text": [
      "Outcome of game using minimax algorithm is  6\n"
     ]
    }
   ],
   "source": [
    "scores = [1,2,3,4,5,6,7,8]\n",
    "max_depth = math.log(len(scores),2)\n",
    "current_depth,node_index = 0,0\n",
    "print(\"Outcome of game using minimax algorithm is \",minimax(current_depth,node_index,True,scores,max_depth))"
   ]
  },
  {
   "cell_type": "code",
   "execution_count": null,
   "metadata": {},
   "outputs": [],
   "source": []
  }
 ],
 "metadata": {
  "kernelspec": {
   "display_name": "Python 3",
   "language": "python",
   "name": "python3"
  },
  "language_info": {
   "codemirror_mode": {
    "name": "ipython",
    "version": 3
   },
   "file_extension": ".py",
   "mimetype": "text/x-python",
   "name": "python",
   "nbconvert_exporter": "python",
   "pygments_lexer": "ipython3",
   "version": "3.7.6"
  }
 },
 "nbformat": 4,
 "nbformat_minor": 4
}
