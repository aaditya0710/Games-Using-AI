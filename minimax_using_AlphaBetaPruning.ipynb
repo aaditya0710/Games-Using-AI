{
 "cells": [
  {
   "cell_type": "code",
   "execution_count": 11,
   "metadata": {},
   "outputs": [],
   "source": [
    "MIN,MAX = -1000,1000"
   ]
  },
  {
   "cell_type": "code",
   "execution_count": 13,
   "metadata": {},
   "outputs": [
    {
     "name": "stdout",
     "output_type": "stream",
     "text": [
      "The optimal value is : 6\n"
     ]
    }
   ],
   "source": [
    "def minimax(depth,node_index,is_max_turn,scores,alpha,beta):\n",
    "    \n",
    "    if depth == 3:\n",
    "        return scores[node_index]\n",
    "    \n",
    "    if is_max_turn:\n",
    "        best = MIN\n",
    "        for i in range(2):\n",
    "            value = minimax(depth+1,node_index*2+i,False,scores,alpha,beta)\n",
    "            best = max(alpha,value)\n",
    "            alpha = max(alpha,best)\n",
    "            if alpha>=beta:\n",
    "                break\n",
    "        return best\n",
    "    else:\n",
    "        best = MAX\n",
    "        for i in range(2):\n",
    "            value = minimax(depth+1,node_index*2+i,True,scores,alpha,beta)\n",
    "            best = min(beta,value)\n",
    "            beta = min(best,beta)\n",
    "            if alpha>=beta:\n",
    "                break\n",
    "        return best\n",
    "scores = [1,2,3,4,5,6,7,8]   \n",
    "print(\"The optimal value is :\", minimax(0, 0, True, scores, MIN, MAX))\n",
    "            "
   ]
  },
  {
   "cell_type": "code",
   "execution_count": null,
   "metadata": {},
   "outputs": [],
   "source": []
  }
 ],
 "metadata": {
  "kernelspec": {
   "display_name": "Python 3",
   "language": "python",
   "name": "python3"
  },
  "language_info": {
   "codemirror_mode": {
    "name": "ipython",
    "version": 3
   },
   "file_extension": ".py",
   "mimetype": "text/x-python",
   "name": "python",
   "nbconvert_exporter": "python",
   "pygments_lexer": "ipython3",
   "version": "3.7.6"
  }
 },
 "nbformat": 4,
 "nbformat_minor": 4
}
