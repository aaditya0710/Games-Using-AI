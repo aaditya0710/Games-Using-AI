{
 "cells": [
  {
   "cell_type": "code",
   "execution_count": 1,
   "metadata": {},
   "outputs": [],
   "source": [
    "def is_move_left(board):\n",
    "    for row in board:\n",
    "        for element in row:\n",
    "           if element=='_':\n",
    "                return True\n",
    "    return False"
   ]
  },
  {
   "cell_type": "code",
   "execution_count": 5,
   "metadata": {},
   "outputs": [],
   "source": [
    "player,oppenent = 'X','O'"
   ]
  },
  {
   "cell_type": "code",
   "execution_count": 4,
   "metadata": {},
   "outputs": [],
   "source": [
    "def evaluate(board):\n",
    "    board_copy = board\n",
    "    if board_copy[0][0]==board_copy[1][1]==board_copy[2][2]=='X' or board_copy[0][0]==board_copy[0][1]==board_copy[0][1]=='X' or board_copy[1][0]==board_copy[1][1]==board_copy[1][2]=='X' or board_copy[2][0]==board_copy[2][1]==board_copy[2][2]=='X' or board_copy[0][0]==board_copy[1][0]==board_copy[2][0]=='X' or board_copy[0][1]==board_copy[1][1]==board_copy[2][1]=='X' or board_copy[0][2]==board_copy[1][2]==board_copy[2][2]=='X' or board_copy[0][2]==board_copy[1][1]==board_copy[0][2]=='X':\n",
    "        return 10\n",
    "    if board_copy[0][0]==board_copy[1][1]==board_copy[2][2]=='O' or board_copy[0][0]==board_copy[0][1]==board_copy[0][1]=='O' or board_copy[1][0]==board_copy[1][1]==board_copy[1][2]=='O' or board_copy[2][0]==board_copy[2][1]==board_copy[2][2]=='O' or board_copy[0][0]==board_copy[1][0]==board_copy[2][0]=='O' or board_copy[0][1]==board_copy[1][1]==board_copy[2][1]=='O' or board_copy[0][2]==board_copy[1][2]==board_copy[2][2]=='O' or board_copy[0][2]==board_copy[1][1]==board_copy[0][2]=='O':\n",
    "        return -10\n",
    "    return 0"
   ]
  },
  {
   "cell_type": "code",
   "execution_count": 18,
   "metadata": {},
   "outputs": [],
   "source": [
    "def minimax(board,depth,is_max_turn):\n",
    "    \n",
    "    score = evaluate(board)\n",
    "    \n",
    "    if score==10:\n",
    "        return score\n",
    "    if score==-10:\n",
    "        return score\n",
    "    if is_move_left(board)==False:\n",
    "        return 0\n",
    "    if is_max_turn:\n",
    "        best = -999\n",
    "        for row in range(3):\n",
    "            for col in range(3):\n",
    "                if board[row][col]=='_':\n",
    "                    board[row][col] = player\n",
    "                    best = max(best,minimax(board, depth+1, not is_max_turn))\n",
    "                    board[row][col]='_'\n",
    "        return best\n",
    "    else:\n",
    "        best = 999\n",
    "        for row in range(3):\n",
    "            for col in range(3):\n",
    "                if board[row][col]=='_':\n",
    "                    board[row][col] = oppenent\n",
    "                    best = min(best,minimax(board, depth+1, not is_max_turn))\n",
    "                    board[row][col]='_'\n",
    "        return best   "
   ]
  },
  {
   "cell_type": "code",
   "execution_count": 28,
   "metadata": {},
   "outputs": [],
   "source": [
    "def find_best_move(board):\n",
    "    \n",
    "    bestval = -999\n",
    "    row = -1\n",
    "    column = -1\n",
    "    \n",
    "    for i in range(3):\n",
    "        for j in range(3):\n",
    "            if board[i][j] == '_':\n",
    "                board[i][j] = player\n",
    "                move_val = minimax(board,0,False)\n",
    "                \n",
    "                if move_val>bestval:\n",
    "                    row = i \n",
    "                    column = j \n",
    "                    bestval = move_val\n",
    "    print(\"VALUE OF BEST MOVE IS \", bestval)\n",
    "    arr = []\n",
    "    arr.append(row)\n",
    "    arr.append(column)\n",
    "    return arr"
   ]
  },
  {
   "cell_type": "code",
   "execution_count": 29,
   "metadata": {},
   "outputs": [
    {
     "name": "stdout",
     "output_type": "stream",
     "text": [
      "VALUE OF BEST MOVE IS  10\n",
      "The Optimal Move is :\n",
      "\n",
      "row:  2 column: 2\n"
     ]
    }
   ],
   "source": [
    "board = [['X', 'O', 'X' ],['O', 'O', 'X' ],['_', '_', '_' ]]\n",
    "arr = find_best_move(board)\n",
    "print(\"The Optimal Move is :\\n\") \n",
    "print(\"row: \",arr[0],\"column:\",arr[1])"
   ]
  },
  {
   "cell_type": "code",
   "execution_count": 24,
   "metadata": {},
   "outputs": [
    {
     "data": {
      "text/plain": [
       "2"
      ]
     },
     "execution_count": 24,
     "metadata": {},
     "output_type": "execute_result"
    }
   ],
   "source": []
  },
  {
   "cell_type": "code",
   "execution_count": null,
   "metadata": {},
   "outputs": [],
   "source": []
  }
 ],
 "metadata": {
  "kernelspec": {
   "display_name": "Python 3",
   "language": "python",
   "name": "python3"
  },
  "language_info": {
   "codemirror_mode": {
    "name": "ipython",
    "version": 3
   },
   "file_extension": ".py",
   "mimetype": "text/x-python",
   "name": "python",
   "nbconvert_exporter": "python",
   "pygments_lexer": "ipython3",
   "version": "3.7.6"
  }
 },
 "nbformat": 4,
 "nbformat_minor": 4
}
